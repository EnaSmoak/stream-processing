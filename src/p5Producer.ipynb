{
 "cells": [
  {
   "cell_type": "code",
   "execution_count": 21,
   "metadata": {},
   "outputs": [],
   "source": [
    "import boto3\n",
    "import csv\n",
    "import json\n",
    "import time\n",
    "from datetime import datetime\n",
    "from looper_scraper import scrape_looper\n",
    "import datetime as dt\n",
    "import pandas as pd"
   ]
  },
  {
   "cell_type": "code",
   "execution_count": 22,
   "metadata": {},
   "outputs": [
    {
     "data": {
      "text/plain": [
       "{'StreamNames': ['blossom-data-eng-Priscilla',\n",
       "  'blossom-data-eng-clifford',\n",
       "  'blossom-data-eng-dennis',\n",
       "  'blossom-data-eng-emily',\n",
       "  'blossom-data-eng-giftysdovie',\n",
       "  'blossom-data-eng-jedidiah',\n",
       "  'blossom-data-eng-michael_asante',\n",
       "  'blossom-data-eng-richmond',\n",
       "  'blossom-data-eng-username',\n",
       "  'blossom-eng-Priscilla',\n",
       "  'blossom-eng-juliuslotsu',\n",
       "  'blossom-eng-michaelasante',\n",
       "  'blossom-eng-omaj',\n",
       "  'kojo-kinesis-test',\n",
       "  'real_estate'],\n",
       " 'HasMoreStreams': False,\n",
       " 'ResponseMetadata': {'RequestId': 'c4dc38ae-1b4b-3750-928f-5bef2099ddf8',\n",
       "  'HTTPStatusCode': 200,\n",
       "  'HTTPHeaders': {'x-amzn-requestid': 'c4dc38ae-1b4b-3750-928f-5bef2099ddf8',\n",
       "   'x-amz-id-2': '1h2N3ug615P3vcA1vuaaJFzsLDNwYwl269aaggyd0K0LpCqFbif+WLHznIqzWVxZQqpDJ6SYaelr1GFCHuVGzST6UrgJ/ooJ',\n",
       "   'date': 'Sat, 23 Nov 2019 16:40:33 GMT',\n",
       "   'content-type': 'application/x-amz-json-1.1',\n",
       "   'content-length': '428'},\n",
       "  'RetryAttempts': 0}}"
      ]
     },
     "execution_count": 22,
     "metadata": {},
     "output_type": "execute_result"
    }
   ],
   "source": [
    "region = 'us-east-2'\n",
    "\n",
    "streamName = 'blossom-data-eng-giftysdovie'\n",
    "\n",
    "kinesis = boto3.client('kinesis', region_name=region)\n",
    "\n",
    "kinesis.list_streams()\n",
    "\n",
    "#response = kinesis.create_stream(StreamName=streamName, ShardCount=1)\n",
    "kinesis.list_streams()"
   ]
  },
  {
   "cell_type": "code",
   "execution_count": 23,
   "metadata": {},
   "outputs": [
    {
     "data": {
      "text/plain": [
       "{'ShardId': 'shardId-000000000000',\n",
       " 'HashKeyRange': {'StartingHashKey': '0',\n",
       "  'EndingHashKey': '170141183460469231731687303715884105727'},\n",
       " 'SequenceNumberRange': {'StartingSequenceNumber': '49601656101500254946504064292541026311190454110666096642',\n",
       "  'EndingSequenceNumber': '49601665365776178673488917553444812941182202304918454274'}}"
      ]
     },
     "execution_count": 23,
     "metadata": {},
     "output_type": "execute_result"
    }
   ],
   "source": [
    "stream_description = kinesis.describe_stream(StreamName=streamName)\n",
    "stream_description.keys()\n",
    "stream_description['StreamDescription']['Shards']\n",
    "stream_description['StreamDescription']['Shards'][0]"
   ]
  },
  {
   "cell_type": "markdown",
   "metadata": {},
   "source": [
    "Creating A Producer"
   ]
  },
  {
   "cell_type": "code",
   "execution_count": 40,
   "metadata": {},
   "outputs": [],
   "source": [
    "def get_data(criteria):\n",
    "    data = scrape_looper(1)  # ignore the argument 1\n",
    "    data = data.head(2) # our assumption; first 2 listings are new\n",
    "    \n",
    "    # we may have some criteria to filter our data on eg \"address='adenta'\"\n",
    "    if criteria:\n",
    "        data = data.query(criteria)\n",
    "    \n",
    "    # for this exercise, we'll only select these columns \n",
    "    #data = data[['description', 'address', 'beds', 'showers', 'area', 'price', 'currency', 'url', 'source', 'lat', 'lon']]\n",
    "    \n",
    "    return data"
   ]
  },
  {
   "cell_type": "code",
   "execution_count": 41,
   "metadata": {},
   "outputs": [],
   "source": [
    "def listings_producer(stream_name, data):\n",
    "        response = kinesis.put_record(\n",
    "            StreamName=stream_name,\n",
    "            Data=data,\n",
    "            PartitionKey='blossom',\n",
    "        )\n",
    "        if response['ResponseMetadata']['HTTPStatusCode'] == 200:\n",
    "            print(f\"Records pushed to {streamName} within kinesis\")\n",
    "        else:\n",
    "            print(\"Records not failed to be pushed to kinesis\")"
   ]
  },
  {
   "cell_type": "code",
   "execution_count": 42,
   "metadata": {},
   "outputs": [
    {
     "name": "stdout",
     "output_type": "stream",
     "text": [
      "Getting page 1 from looperghana\n",
      "\"['lon', 'lat', 'description'] not in index\"\n"
     ]
    }
   ],
   "source": [
    "if __name__ == '__main__':\n",
    "    try:\n",
    "        while True:\n",
    "            data = get_data(None)\n",
    "            data = data.to_json()\n",
    "            listings_producer(streamName, data)\n",
    "            time.sleep(10)\n",
    "    except Exception as e:\n",
    "        print(e)"
   ]
  },
  {
   "cell_type": "code",
   "execution_count": null,
   "metadata": {},
   "outputs": [],
   "source": []
  }
 ],
 "metadata": {
  "kernelspec": {
   "display_name": "Python 3",
   "language": "python",
   "name": "python3"
  },
  "language_info": {
   "codemirror_mode": {
    "name": "ipython",
    "version": 3
   },
   "file_extension": ".py",
   "mimetype": "text/x-python",
   "name": "python",
   "nbconvert_exporter": "python",
   "pygments_lexer": "ipython3",
   "version": "3.7.3"
  }
 },
 "nbformat": 4,
 "nbformat_minor": 4
}
